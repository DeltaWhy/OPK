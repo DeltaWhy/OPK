{
 "cells": [
  {
   "cell_type": "code",
   "execution_count": 1,
   "id": "3e88178a-e6e0-4ac5-a24d-d5f0566b4e06",
   "metadata": {
    "tags": []
   },
   "outputs": [
    {
     "name": "stdout",
     "output_type": "stream",
     "text": [
      "Overwriting auto display for cadquery Workplane and Shape\n"
     ]
    },
    {
     "data": {
      "text/plain": [
       "<cad_viewer_widget.widget.CadViewer at 0x7f88b4174100>"
      ]
     },
     "execution_count": 1,
     "metadata": {},
     "output_type": "execute_result"
    }
   ],
   "source": [
    "from jupyter_cadquery import set_defaults, open_viewer, show\n",
    "#set_defaults(theme=\"dark\")\n",
    "open_viewer(\"CadQuery\")"
   ]
  },
  {
   "cell_type": "code",
   "execution_count": 10,
   "id": "d7031e3e-972b-4f56-a00f-0e5d111dd8b0",
   "metadata": {},
   "outputs": [],
   "source": [
    "from spherical import keycap"
   ]
  },
  {
   "cell_type": "code",
   "execution_count": 15,
   "id": "9b4aa2d5-8d42-4779-afcf-2893973886da",
   "metadata": {},
   "outputs": [
    {
     "name": "stdout",
     "output_type": "stream",
     "text": [
      "100% ⋮————————————————————————————————————————————————————————————⋮ (4/4)  0.75s\n"
     ]
    }
   ],
   "source": [
    "import cadquery as cq\n",
    "assembly = cq.Assembly()\n",
    "assembly.add(keycap())\n",
    "assembly.add(keycap(angle=-6, height=5.5), loc=cq.Location((0, -19.05, 0)))\n",
    "assembly.add(keycap(angle=6, height=5.5), loc=cq.Location((0, 19.05 * 2, 0)))\n",
    "assembly.add(keycap(depth=2.0), loc=cq.Location((0, 19.05, 0)))"
   ]
  },
  {
   "cell_type": "code",
   "execution_count": 11,
   "id": "b2331b73-7c9e-4e4c-af29-b58b681f061f",
   "metadata": {},
   "outputs": [],
   "source": [
    "keycap(unitX=7)"
   ]
  },
  {
   "cell_type": "code",
   "execution_count": 13,
   "id": "c6c2063f-e683-4d58-a068-adf684807975",
   "metadata": {},
   "outputs": [
    {
     "name": "stdout",
     "output_type": "stream",
     "text": [
      "\u001b[32;1m\n",
      "*******************************************************************\n",
      "******        Statistics on Transfer (Write)                 ******\u001b[0m\n",
      "\u001b[32;1m\n",
      "*******************************************************************\n",
      "******        Transfer Mode = 0  I.E.  As Is       ******\u001b[0m\n",
      "\u001b[32;1m******        Transferring Shape, ShapeType = 0                      ******\u001b[0m\n",
      "\u001b[32;1m** WorkSession : Sending all data\u001b[0m\n",
      "\u001b[32;1m Step File Name : spherical-r2r4.step(7151 ents)  Write  Done\u001b[0m\n",
      "\u001b[32;1m\n",
      "*******************************************************************\n",
      "******        Statistics on Transfer (Write)                 ******\u001b[0m\n",
      "\u001b[32;1m\n",
      "*******************************************************************\n",
      "******        Transfer Mode = 0  I.E.  As Is       ******\u001b[0m\n",
      "\u001b[32;1m******        Transferring Shape, ShapeType = 0                      ******\u001b[0m\n",
      "\u001b[32;1m** WorkSession : Sending all data\u001b[0m\n",
      "\u001b[32;1m Step File Name : spherical-mid.step(6829 ents)  Write  Done\u001b[0m\n"
     ]
    }
   ],
   "source": [
    "r2r4 = keycap(angle=-6, height=5.5)\n",
    "cq.exporters.export(r2r4, 'spherical-r2r4.stl', tolerance=0.001, angularTolerance=0.05)\n",
    "cq.exporters.export(r2r4, 'spherical-r2r4.step')\n",
    "mid = keycap(depth=1.5)\n",
    "cq.exporters.export(mid, 'spherical-mid.stl', tolerance=0.001, angularTolerance=0.05)\n",
    "cq.exporters.export(mid, 'spherical-mid.step')"
   ]
  },
  {
   "cell_type": "code",
   "execution_count": 14,
   "id": "2eab077f-4bb2-487b-b9a2-583a23d977d8",
   "metadata": {},
   "outputs": [],
   "source": [
    "mid"
   ]
  },
  {
   "cell_type": "code",
   "execution_count": null,
   "id": "eb3469e8-928d-47ea-925b-176f6e0c258e",
   "metadata": {},
   "outputs": [],
   "source": []
  }
 ],
 "metadata": {
  "kernelspec": {
   "display_name": "Python 3 (ipykernel)",
   "language": "python",
   "name": "python3"
  },
  "language_info": {
   "codemirror_mode": {
    "name": "ipython",
    "version": 3
   },
   "file_extension": ".py",
   "mimetype": "text/x-python",
   "name": "python",
   "nbconvert_exporter": "python",
   "pygments_lexer": "ipython3",
   "version": "3.8.13"
  }
 },
 "nbformat": 4,
 "nbformat_minor": 5
}
