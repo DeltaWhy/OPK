{
 "cells": [
  {
   "cell_type": "code",
   "execution_count": 1,
   "id": "773da64d-1e42-4387-b73d-f69e2791769f",
   "metadata": {},
   "outputs": [
    {
     "name": "stdout",
     "output_type": "stream",
     "text": [
      "Overwriting auto display for cadquery Workplane and Shape\n"
     ]
    },
    {
     "data": {
      "text/plain": [
       "<cad_viewer_widget.widget.CadViewer at 0x7f76a043b940>"
      ]
     },
     "execution_count": 1,
     "metadata": {},
     "output_type": "execute_result"
    }
   ],
   "source": [
    "from jupyter_cadquery import set_defaults, open_viewer\n",
    "#set_defaults(theme=\"dark\")\n",
    "open_viewer(\"CadQuery\")"
   ]
  },
  {
   "cell_type": "code",
   "execution_count": 14,
   "id": "d61608ae-4a52-4544-9796-3f98b320b5bb",
   "metadata": {},
   "outputs": [],
   "source": [
    "import cadquery as cq\n",
    "unitX: float = 1           # keycap size in unit. Standard sizes: 1, 1.25, 1.5, ...\n",
    "unitY: float = 1\n",
    "base: float = 18.2         # 1-unit size in mm at the base\n",
    "top: float = 13.2          # 1-unit size in mm at the top, actual hitting area will be slightly bigger\n",
    "curv: float = 1.7          # Top side curvature. Higher value makes the top rounder (use small increments)\n",
    "bFillet: float = 0.5       # Fillet at the base\n",
    "tFillet: float = 5         # Fillet at the top\n",
    "height: float = 13         # Height of the keycap before cutting the scoop (final height is lower)\n",
    "angle: float = 0           # Angle of the top surface\n",
    "depth: float = 2.8         # Scoop depth\n",
    "thickness: float = 1.5     # Keycap sides thickness\n",
    "convex: bool = False       # Is this a spacebar?"
   ]
  },
  {
   "cell_type": "code",
   "execution_count": 15,
   "id": "a43683ac-50a0-458a-9297-45d175ce72cf",
   "metadata": {},
   "outputs": [
    {
     "name": "stdout",
     "output_type": "stream",
     "text": [
      "100% ⋮————————————————————————————————————————————————————————————⋮ (5/5)  0.02s\n"
     ]
    },
    {
     "data": {
      "text/plain": [
       "<cad_viewer_widget.widget.CadViewer at 0x7f76a043b940>"
      ]
     },
     "execution_count": 15,
     "metadata": {},
     "output_type": "execute_result"
    }
   ],
   "source": [
    "top_diff = base - top\n",
    "\n",
    "curv = min(curv, 1.9)\n",
    "\n",
    "bx = 19.05 * unitX - (19.05 - base)\n",
    "by = 19.05 * unitY - (19.05 - base)\n",
    "\n",
    "tx = bx - top_diff\n",
    "ty = by - top_diff\n",
    "\n",
    "# if spacebar make the top less round-y\n",
    "tension = .4 if convex else 1\n",
    "\n",
    "if unitX < 2 and unitY < 2:\n",
    "    pos = False\n",
    "\n",
    "# Three-section loft of rounded rectangles. Can't find a better way to do variable fillet\n",
    "base = (\n",
    "    cq.Sketch()\n",
    "    .rect(bx, by)\n",
    "    .vertices()\n",
    "    .fillet(bFillet)\n",
    ")\n",
    "\n",
    "mid = (\n",
    "    cq.Sketch()\n",
    "    .rect(bx, by)\n",
    "    .vertices()\n",
    "    .fillet((tFillet-bFillet)/3)\n",
    ")\n",
    "\n",
    "top = (\n",
    "    cq.Sketch()\n",
    "    .arc((curv, curv*tension), (0, ty/2), (curv, ty-curv*tension))\n",
    "    .arc((curv, ty-curv*tension), (tx/2, ty), (tx-curv, ty-curv*tension))\n",
    "    .arc((tx-curv, ty-curv*tension), (tx, ty/2), (tx-curv, curv*tension))\n",
    "    .arc((tx-curv, curv*tension), (tx/2, 0), (curv, curv*tension))\n",
    "    .assemble()\n",
    "    .vertices()\n",
    "    .fillet(tFillet)\n",
    "    .moved(cq.Location(cq.Vector(-tx/2, -ty/2, 0)))\n",
    ")\n",
    "from jupyter_cadquery import show\n",
    "show(base, mid, top)\n"
   ]
  },
  {
   "cell_type": "code",
   "execution_count": 16,
   "id": "75efc80d-9db0-4a15-ae5c-84257f2f7968",
   "metadata": {},
   "outputs": [
    {
     "data": {
      "text/plain": [
       "<cad_viewer_widget.widget.CadViewer at 0x7f76a043b940>"
      ]
     },
     "execution_count": 16,
     "metadata": {},
     "output_type": "execute_result"
    }
   ],
   "source": [
    "keycap = (\n",
    "    cq.Workplane(\"XY\")\n",
    "    .placeSketch(base,\n",
    "                mid.moved(cq.Location(cq.Vector(0, 0, height/4), cq.Vector(1,0,0), angle/4)),\n",
    "                top.moved(cq.Location(cq.Vector(0, 0, height), cq.Vector(1,0,0), angle))\n",
    "                )\n",
    "    .loft()\n",
    ")\n",
    "show(keycap)"
   ]
  },
  {
   "cell_type": "code",
   "execution_count": 18,
   "id": "c12bd761-2a08-4e3d-ba84-aca574d61fe3",
   "metadata": {},
   "outputs": [
    {
     "name": "stdout",
     "output_type": "stream",
     "text": [
      "100% ⋮————————————————————————————————————————————————————————————⋮ (2/2)  0.05s\n"
     ]
    },
    {
     "data": {
      "text/plain": [
       "<cad_viewer_widget.widget.CadViewer at 0x7f75e0d7ba90>"
      ]
     },
     "execution_count": 18,
     "metadata": {},
     "output_type": "execute_result"
    }
   ],
   "source": [
    "scoop = (\n",
    "    cq.Workplane(\"YZ\").transformed(offset=cq.Vector(0, height, bx/2), rotate=cq.Vector(0, 0, angle))\n",
    "    .moveTo(-by/2+2,0)\n",
    "    .threePointArc((0, min(-0.1, -depth+1.5)), (by/2-2, 0))\n",
    "    .lineTo(by/2, height)\n",
    "    .lineTo(-by/2, height)\n",
    "    .close()\n",
    "    .workplane(offset=-bx/2)\n",
    "    .moveTo(-by/2-2, -0.5)\n",
    "    .threePointArc((0, -depth), (by/2+2, -0.5))\n",
    "    .lineTo(by/2, height)\n",
    "    .lineTo(-by/2, height)\n",
    "    .close()\n",
    "    .workplane(offset=-bx/2)\n",
    "    .moveTo(-by/2+2, 0)\n",
    "    .threePointArc((0, min(-0.1, -depth+1.5)), (by/2-2, 0))\n",
    "    .lineTo(by/2, height)\n",
    "    .lineTo(-by/2, height)\n",
    "    .close()\n",
    "    .loft(combine=False)\n",
    ")\n",
    "show(keycap, scoop)"
   ]
  },
  {
   "cell_type": "code",
   "execution_count": 13,
   "id": "bcef1067-982c-4146-8281-e46d52fe0d0f",
   "metadata": {},
   "outputs": [],
   "source": [
    "# Create a body that will be carved from the main shape to create the top scoop\n",
    "if convex:\n",
    "    scoop = (\n",
    "        cq.Workplane(\"YZ\").transformed(offset=cq.Vector(0, height-2.1, -bx/2), rotate=cq.Vector(0, 0, angle))\n",
    "        .moveTo(-by/2, -1)\n",
    "        .threePointArc((0, 2), (by/2, -1))\n",
    "        .lineTo(by/2, 10)\n",
    "        .lineTo(-by/2, 10)\n",
    "        .close()\n",
    "        .extrude(bx, combine=False)\n",
    "    )\n",
    "else:\n",
    "    scoop = (\n",
    "        cq.Workplane(\"YZ\").transformed(offset=cq.Vector(0, height, bx/2), rotate=cq.Vector(0, 0, angle))\n",
    "        .moveTo(-by/2+2,0)\n",
    "        .threePointArc((0, min(-0.1, -depth+1.5)), (by/2-2, 0))\n",
    "        .lineTo(by/2, height)\n",
    "        .lineTo(-by/2, height)\n",
    "        .close()\n",
    "        .workplane(offset=-bx/2)\n",
    "        .moveTo(-by/2-2, -0.5)\n",
    "        .threePointArc((0, -depth), (by/2+2, -0.5))\n",
    "        .lineTo(by/2, height)\n",
    "        .lineTo(-by/2, height)\n",
    "        .close()\n",
    "        .workplane(offset=-bx/2)\n",
    "        .moveTo(-by/2+2, 0)\n",
    "        .threePointArc((0, min(-0.1, -depth+1.5)), (by/2-2, 0))\n",
    "        .lineTo(by/2, height)\n",
    "        .lineTo(-by/2, height)\n",
    "        .close()\n",
    "        .loft(combine=False)\n",
    "    )\n",
    "\n",
    "#show_object(tool, options={'alpha': 0.4})\n",
    "keycap = keycap - scoop\n",
    "keycap"
   ]
  },
  {
   "cell_type": "code",
   "execution_count": 7,
   "id": "eafa708b-d59f-46af-97e1-91315edf6215",
   "metadata": {},
   "outputs": [],
   "source": [
    "# Top edge fillet\n",
    "keycap = keycap.edges(\">Z\").fillet(0.6)\n",
    "keycap"
   ]
  },
  {
   "cell_type": "code",
   "execution_count": 7,
   "id": "ab6e1b54-d5b1-41ae-860a-4b95398e8452",
   "metadata": {},
   "outputs": [
    {
     "name": "stdout",
     "output_type": "stream",
     "text": [
      "100% ⋮————————————————————————————————————————————————————————————⋮ (2/2)  0.01s\n"
     ]
    }
   ],
   "source": [
    "# Since the shell() function is not able to deal with complex shapes\n",
    "# we need to subtract a smaller keycap from the main shape\n",
    "shell = (\n",
    "    cq.Workplane(\"XY\").rect(bx-thickness*2, by-thickness*2)\n",
    "    .workplane(offset=height/4).rect(bx-thickness*3, by-thickness*3)\n",
    "    .workplane().transformed(offset=cq.Vector(0, 0, height-height/4-4.5), rotate=cq.Vector(angle, 0, 0)).rect(tx-thickness*2+.5, ty-thickness*2+.5)\n",
    "    .loft()\n",
    ")\n",
    "show(keycap, shell)\n",
    "keycap = keycap - shell"
   ]
  },
  {
   "cell_type": "code",
   "execution_count": 8,
   "id": "a0b125d3-de4f-4e9c-90ed-061e6daee6b0",
   "metadata": {},
   "outputs": [
    {
     "name": "stdout",
     "output_type": "stream",
     "text": [
      "100% ⋮————————————————————————————————————————————————————————————⋮ (2/2)  0.15s\n"
     ]
    },
    {
     "data": {
      "text/plain": [
       "<cad_viewer_widget.widget.CadViewer at 0x7f01485f1af0>"
      ]
     },
     "execution_count": 8,
     "metadata": {},
     "output_type": "execute_result"
    }
   ],
   "source": [
    "# create a temporary surface that will be used to project the stems to\n",
    "# this is needed because extrude(face) needs the entire extruded outline to be contained inside the destination face\n",
    "tmpface = shell.faces('>Z').workplane().rect(bx*2, by*2).val()\n",
    "tmpface = cq.Face.makeFromWires(tmpface)\n",
    "show(keycap, tmpface)"
   ]
  },
  {
   "cell_type": "code",
   "execution_count": 9,
   "id": "0c7f5129-dc08-4db7-a577-0f98814f70af",
   "metadata": {},
   "outputs": [
    {
     "name": "stdout",
     "output_type": "stream",
     "text": [
      "100% ⋮————————————————————————————————————————————————————————————⋮ (2/2)  0.01s\n"
     ]
    },
    {
     "data": {
      "text/plain": [
       "<cad_viewer_widget.widget.CadViewer at 0x7f01485f1af0>"
      ]
     },
     "execution_count": 9,
     "metadata": {},
     "output_type": "execute_result"
    }
   ],
   "source": [
    "show(keycap, scoop)"
   ]
  },
  {
   "cell_type": "code",
   "execution_count": 10,
   "id": "4aa30e51-6461-41f4-85ba-26503a0a9453",
   "metadata": {},
   "outputs": [
    {
     "name": "stdout",
     "output_type": "stream",
     "text": [
      "100% ⋮————————————————————————————————————————————————————————————⋮ (2/2)  0.00s\n"
     ]
    },
    {
     "data": {
      "text/plain": [
       "<cad_viewer_widget.widget.CadViewer at 0x7f01485f1af0>"
      ]
     },
     "execution_count": 10,
     "metadata": {},
     "output_type": "execute_result"
    }
   ],
   "source": [
    "show(keycap, (cq.Workplane(\"YZ\").transformed(offset=cq.Vector(0, height, bx/2), rotate=cq.Vector(0, 0, angle))\n",
    ".moveTo(-by/2+2,0)\n",
    ".threePointArc((0, min(-0.1, -depth+1.5)), (by/2-2, 0))\n",
    ".lineTo(by/2, height)\n",
    ".lineTo(-by/2, height)\n",
    ".close()\n",
    "#.workplane(offset=-bx/2)\n",
    "#.moveTo(-by/2-2, -0.5)\n",
    "#.threePointArc((0, -depth), (by/2+2, -0.5))\n",
    "#.lineTo(by/2, height)\n",
    "#.lineTo(-by/2, height)\n",
    "#.close()\n",
    ".workplane(offset=-bx)\n",
    ".moveTo(-by/2+2, 0)\n",
    ".threePointArc((0, min(-0.1, -depth+1.5)), (by/2-2, 0))\n",
    ".lineTo(by/2, height)\n",
    ".lineTo(-by/2, height)\n",
    ".close()\n",
    ".loft(combine=False)\n",
    "    ))"
   ]
  },
  {
   "cell_type": "code",
   "execution_count": null,
   "id": "c6525be3-f80e-4d30-9c48-b0dd2448be81",
   "metadata": {},
   "outputs": [],
   "source": []
  },
  {
   "cell_type": "code",
   "execution_count": null,
   "id": "0a6a6210-84fc-430f-8434-5efbfdd01e59",
   "metadata": {},
   "outputs": [],
   "source": []
  }
 ],
 "metadata": {
  "kernelspec": {
   "display_name": "Python 3 (ipykernel)",
   "language": "python",
   "name": "python3"
  },
  "language_info": {
   "codemirror_mode": {
    "name": "ipython",
    "version": 3
   },
   "file_extension": ".py",
   "mimetype": "text/x-python",
   "name": "python",
   "nbconvert_exporter": "python",
   "pygments_lexer": "ipython3",
   "version": "3.8.13"
  }
 },
 "nbformat": 4,
 "nbformat_minor": 5
}
